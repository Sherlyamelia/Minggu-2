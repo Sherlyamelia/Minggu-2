{
 "cells": [
  {
   "cell_type": "code",
   "execution_count": 1,
   "id": "0310ed0c-c301-4765-a198-492700337b4e",
   "metadata": {},
   "outputs": [
    {
     "name": "stdout",
     "output_type": "stream",
     "text": [
      "Requirement already satisfied: mysql-connector-python in c:\\users\\asus\\anaconda3\\lib\\site-packages (9.0.0)Note: you may need to restart the kernel to use updated packages.\n",
      "\n"
     ]
    }
   ],
   "source": [
    "pip install mysql-connector-python"
   ]
  },
  {
   "cell_type": "code",
   "execution_count": null,
   "id": "b0715fa4-366c-42cd-aa3e-1bf1fb0c6c0a",
   "metadata": {},
   "outputs": [
    {
     "name": "stdout",
     "output_type": "stream",
     "text": [
      "1. Tambah Data Pasien\n",
      "2. Update Data Pasien\n",
      "3. Hapus Data Pasien\n",
      "4. Tampilkan Data Pasien\n",
      "5. Keluar\n"
     ]
    }
   ],
   "source": [
    "import mysql.connector\n",
    "\n",
    "def connect_db():\n",
    "    return mysql.connector.connect(\n",
    "        host=\"localhost\",\n",
    "        user=\"root\",\n",
    "        password=\"\",\n",
    "        database=\"rumah_sakit\"\n",
    "    )\n",
    "\n",
    "def insert_data():\n",
    "    conn = connect_db()\n",
    "    cursor = conn.cursor()\n",
    "    nama = input(\"Masukkan nama pasien: \")\n",
    "    tanggal_lahir = input(\"Masukkan tanggal lahir (YYYY-MM-DD): \")\n",
    "    jenis_kelamin = input(\"Masukkan jenis kelamin (L/P): \")\n",
    "    alamat = input(\"Masukkan alamat: \")\n",
    "\n",
    "    query = \"INSERT INTO pasien (nama, tanggal_lahir, jenis_kelamin, alamat) VALUES (%s, %s, %s, %s)\"\n",
    "    data = (nama, tanggal_lahir, jenis_kelamin, alamat)\n",
    "    cursor.execute(query, data)\n",
    "    conn.commit()\n",
    "    print(\"Data berhasil ditambahkan.\")\n",
    "    show_data()\n",
    "    cursor.close()\n",
    "    conn.close()\n",
    "\n",
    "def update_data():\n",
    "    conn = connect_db()\n",
    "    cursor = conn.cursor()\n",
    "    id_pasien = input(\"Masukkan id pasien: \")\n",
    "    kolom = input(\"Kolom mana yang ingin diubah (nama/tanggal_lahir/jenis_kelamin/alamat): \")\n",
    "    nilai_baru = input(f\"Masukkan nilai baru untuk {kolom}: \")\n",
    "\n",
    "    query = f\"UPDATE pasien SET {kolom} = %s WHERE id_pasien = %s\"\n",
    "    cursor.execute(query, (nilai_baru, id_pasien))\n",
    "    conn.commit()\n",
    "    print(\"Data berhasil diupdate.\")\n",
    "    show_data()\n",
    "    cursor.close()\n",
    "    conn.close()\n",
    "\n",
    "def delete_data():\n",
    "    conn = connect_db()\n",
    "    cursor = conn.cursor()\n",
    "    id_pasien = input(\"Masukkan id pasien yang ingin dihapus: \")\n",
    "\n",
    "    query = \"DELETE FROM pasien WHERE id_pasien = %s\"\n",
    "    cursor.execute(query, (id_pasien,))\n",
    "    conn.commit()\n",
    "    print(\"Data berhasil dihapus.\")\n",
    "    show_data()\n",
    "    cursor.close()\n",
    "    conn.close()\n",
    "\n",
    "def show_data():\n",
    "    conn = connect_db()\n",
    "    cursor = conn.cursor()\n",
    "    cursor.execute(\"SELECT * FROM pasien\")\n",
    "    result = cursor.fetchall()\n",
    "    print(\"Data Pasien:\")\n",
    "    for row in result:\n",
    "        print(row)\n",
    "    cursor.close()\n",
    "    conn.close()\n",
    "\n",
    "# Main Program\n",
    "if __name__ == \"__main__\":\n",
    "    while True:\n",
    "        print(\"1. Tambah Data Pasien\")\n",
    "        print(\"2. Update Data Pasien\")\n",
    "        print(\"3. Hapus Data Pasien\")\n",
    "        print(\"4. Tampilkan Data Pasien\")\n",
    "        print(\"5. Keluar\")\n",
    "\n",
    "        choice = input(\"Pilih operasi: \")\n",
    "\n",
    "        if choice == \"1\":\n",
    "            insert_data()\n",
    "        elif choice == \"2\":\n",
    "            update_data()\n",
    "        elif choice == \"3\":\n",
    "            delete_data()\n",
    "        elif choice == \"4\":\n",
    "            show_data()\n",
    "        elif choice == \"5\":\n",
    "            break\n",
    "        else:\n",
    "            print(\"Pilihan tidak valid.\")\n"
   ]
  },
  {
   "cell_type": "code",
   "execution_count": null,
   "id": "c8f3d73a-852d-4dd3-adaf-1002448285c3",
   "metadata": {},
   "outputs": [],
   "source": []
  }
 ],
 "metadata": {
  "kernelspec": {
   "display_name": "Python 3 (ipykernel)",
   "language": "python",
   "name": "python3"
  },
  "language_info": {
   "codemirror_mode": {
    "name": "ipython",
    "version": 3
   },
   "file_extension": ".py",
   "mimetype": "text/x-python",
   "name": "python",
   "nbconvert_exporter": "python",
   "pygments_lexer": "ipython3",
   "version": "3.12.4"
  }
 },
 "nbformat": 4,
 "nbformat_minor": 5
}
